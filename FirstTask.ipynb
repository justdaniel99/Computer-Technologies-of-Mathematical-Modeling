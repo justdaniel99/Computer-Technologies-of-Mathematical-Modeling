{
 "cells": [
  {
   "cell_type": "code",
   "execution_count": 2,
   "metadata": {
    "scrolled": true
   },
   "outputs": [
    {
     "name": "stdout",
     "output_type": "stream",
     "text": [
      "pygame 2.1.2 (SDL 2.0.18, Python 3.8.12)\n",
      "Hello from the pygame community. https://www.pygame.org/contribute.html\n"
     ]
    }
   ],
   "source": [
    "# Libraries \n",
    "\n",
    "import math\n",
    "import numpy as np\n",
    "import scipy as sp\n",
    "import matplotlib.pyplot as plt\n",
    "\n",
    "from scipy.integrate import odeint\n",
    "\n",
    "import sys\n",
    "\n",
    "from random import random\n",
    "\n",
    "import OpenGL\n",
    "from OpenGL.GL import *\n",
    "from OpenGL.GLU import *\n",
    "import OpenGL.GL as gl\n",
    "import OpenGL.GLU as glu\n",
    "import OpenGL.GLUT as glut\n",
    "\n",
    "import csv\n",
    "import pywavefront\n",
    "import pygame\n",
    "from pygame.locals import *"
   ]
  },
  {
   "cell_type": "code",
   "execution_count": 14,
   "metadata": {},
   "outputs": [
    {
     "data": {
      "image/png": "[encoded data removed]",
      "text/plain": [
       "<Figure size 432x288 with 1 Axes>"
      ]
     },
     "metadata": {
      "needs_background": "light"
     },
     "output_type": "display_data"
    }
   ],
   "source": [
    "# ODE Solving Example\n",
    "def sys_of_funcs(y, t, b, c):\n",
    "    y1 = y[0]\n",
    "    y2 = y[1]\n",
    "    f1 = y2\n",
    "    f2 = - b * y1 - c * np.sin(y2) \n",
    "    return [f1, f2]\n",
    "\n",
    "init = np.pi - 0.1, 0.0 \n",
    "t = np.linspace(0, 10, 101)\n",
    "b = 1\n",
    "c = -1\n",
    "sol = odeint(sys_of_funcs, init, t, args=(b, c))\n",
    "\n",
    "plt.grid()\n",
    "plt.xlabel('t')\n",
    "plt.ylabel('y')\n",
    "plt.plot(t, sol[:, 0], color='red', label=r\"$y_1$\")\n",
    "plt.plot(t, sol[:, 1], color='yellow', label=r\"$y_2$\")\n",
    "plt.legend(loc=\"best\")\n",
    "plt.show()"
   ]
  },
  {
   "cell_type": "code",
   "execution_count": null,
   "metadata": {},
   "outputs": [
    {
     "name": "stdout",
     "output_type": "stream",
     "text": [
      "Press `End` to change color\n"
     ]
    }
   ],
   "source": [
    "#OpenGL Example\n",
    "\n",
    "pointdata = [[0, 0.5, 0], \n",
    "             [-0.5, -0.5, 0], \n",
    "             [0.5, -0.5, 0]]\n",
    "\n",
    "pointcolor = [[1, 1, 0], \n",
    "              [0, 1, 1], \n",
    "              [1, 0, 1]]\n",
    "\n",
    "vertex_source = \"\"\"\n",
    "varying vec4 vertex_color;\n",
    "void main(){\n",
    "    gl_Position = gl_ModelViewProjectionMatrix * gl_Vertex;\n",
    "    vertex_color = gl_Color;\n",
    "}\n",
    "\"\"\"\n",
    "\n",
    "fragment_source = \"\"\"\n",
    "varying vec4 vertex_color;\n",
    "void main() {\n",
    "    gl_FragColor = vertex_color;\n",
    "}\n",
    "\"\"\"\n",
    "\n",
    "def create_shader(sh_type, sh_source):\n",
    "    sh = gl.glCreateShader(sh_type)\n",
    "    gl.glShaderSource(sh, sh_source)\n",
    "    gl.glCompileShader(sh)\n",
    "    return sh\n",
    "\n",
    "def display():\n",
    "    gl.glClear(gl.GL_COLOR_BUFFER_BIT)\n",
    "    gl.glEnableClientState(gl.GL_VERTEX_ARRAY)\n",
    "    gl.glEnableClientState(gl.GL_COLOR_ARRAY)\n",
    "    gl.glVertexPointer(3, gl.GL_FLOAT, 0, pointdata)\n",
    "    gl.glColorPointer(3, gl.GL_FLOAT, 0, pointcolor)\n",
    "    gl.glDrawArrays(gl.GL_TRIANGLES, 0, 3)\n",
    "    gl.glDisableClientState(gl.GL_VERTEX_ARRAY)\n",
    "    gl.glDisableClientState(gl.GL_COLOR_ARRAY)\n",
    "    glut.glutSwapBuffers()\n",
    "    \n",
    "def specialkeys(key, x, y):\n",
    "    global pointcolor\n",
    "    if key == glut.GLUT_KEY_UP:\n",
    "        gl.glRotatef(5, 1, 0, 0)\n",
    "    if key == glut.GLUT_KEY_DOWN:\n",
    "        gl.glRotatef(-5, 1, 0, 0)\n",
    "    if key == glut.GLUT_KEY_LEFT:\n",
    "        gl.glRotatef(5, 0, 1, 0)\n",
    "    if key == glut.GLUT_KEY_RIGHT:\n",
    "        gl.glRotatef(-5, 0, 1, 0)\n",
    "    if key == glut.GLUT_KEY_END:\n",
    "        pointcolor = [[random(), random(), random()], \n",
    "                      [random(), random(), random()], \n",
    "                      [random(), random(), random()]]\n",
    "\n",
    "def initialize():\n",
    "    vertex = create_shader(gl.GL_VERTEX_SHADER, vertex_source)\n",
    "    fragment = create_shader(gl.GL_FRAGMENT_SHADER, fragment_source)\n",
    "    \n",
    "    program = gl.glCreateProgram()\n",
    "    gl.glAttachShader(program, vertex)\n",
    "    gl.glAttachShader(program, fragment)\n",
    "    gl.glLinkProgram(program)\n",
    "    gl.glUseProgram(program)\n",
    "\n",
    "\n",
    "def run():\n",
    "    glut.glutInit(sys.argv)\n",
    "    glut.glutInitDisplayMode(glut.GLUT_DOUBLE | glut.GLUT_RGB)\n",
    "    glut.glutInitWindowSize(640, 480)\n",
    "    glut.glutInitWindowPosition(50, 50)\n",
    "    window = glut.glutCreateWindow(\"Example\")\n",
    "    glut.glutDisplayFunc(display)\n",
    "    glut.glutIdleFunc(display)\n",
    "    glut.glutSpecialFunc(specialkeys)\n",
    "    gl.glClearColor(0.2, 0.2, 0.2, 1)\n",
    "    \n",
    "    try:\n",
    "        initialize()\n",
    "    except:\n",
    "        print(\"Error\")\n",
    "        \n",
    "    glut.glutMainLoop()\n",
    "    \n",
    "print(\"Press `End` to change color\")\n",
    "\n",
    "run()"
   ]
  },
  {
   "cell_type": "code",
   "execution_count": null,
   "metadata": {},
   "outputs": [],
   "source": [
    "#.csv File Opening, Reading and Writing to Array\n",
    "\n",
    "with open('coefficients.csv', newline='') as f:\n",
    "    line_array = []\n",
    "    reader = csv.reader(f)\n",
    "    for row in reader:\n",
    "        line=[x for x in ';'.join(row).split(';')]\n",
    "        line_array.append(line)"
   ]
  },
  {
   "cell_type": "code",
   "execution_count": 3,
   "metadata": {},
   "outputs": [
    {
     "name": "stderr",
     "output_type": "stream",
     "text": [
      "Unimplemented OBJ format statement 'g' on line 'g Part1'\n",
      "Unimplemented OBJ format statement 'g' on line 'g Part2'\n",
      "Unimplemented OBJ format statement 'g' on line 'g Part3'\n",
      "Unimplemented OBJ format statement 'g' on line 'g Part4'\n",
      "Unimplemented OBJ format statement 'g' on line 'g Part5'\n",
      "Unimplemented OBJ format statement 'g' on line 'g Part8'\n",
      "Unimplemented OBJ format statement 'g' on line 'g Part6'\n",
      "Unimplemented OBJ format statement 'g' on line 'g Part6'\n",
      "Unimplemented OBJ format statement 'g' on line 'g Part9'\n"
     ]
    },
    {
     "ename": "GLError",
     "evalue": "GLError(\n\terr = 1282,\n\tdescription = b'\\xed\\xe5\\xe4\\xee\\xef\\xf3\\xf1\\xf2\\xe8\\xec\\xe0\\xff \\xee\\xef\\xe5\\xf0\\xe0\\xf6\\xe8\\xff',\n\tbaseOperation = glRotatef,\n\tcArguments = (1, 5, 1, 1)\n)",
     "output_type": "error",
     "traceback": [
      "\u001b[1;31m---------------------------------------------------------------------------\u001b[0m",
      "\u001b[1;31mGLError\u001b[0m                                   Traceback (most recent call last)",
      "Input \u001b[1;32mIn [3]\u001b[0m, in \u001b[0;36m<cell line: 67>\u001b[1;34m()\u001b[0m\n\u001b[0;32m     64\u001b[0m             pygame\u001b[38;5;241m.\u001b[39mdisplay\u001b[38;5;241m.\u001b[39mflip()\n\u001b[0;32m     65\u001b[0m             pygame\u001b[38;5;241m.\u001b[39mtime\u001b[38;5;241m.\u001b[39mwait(\u001b[38;5;241m10\u001b[39m)\n\u001b[1;32m---> 67\u001b[0m \u001b[43mmain\u001b[49m\u001b[43m(\u001b[49m\u001b[43m)\u001b[49m\n",
      "Input \u001b[1;32mIn [3]\u001b[0m, in \u001b[0;36mmain\u001b[1;34m()\u001b[0m\n\u001b[0;32m     54\u001b[0m         \u001b[38;5;28;01mif\u001b[39;00m event\u001b[38;5;241m.\u001b[39mkey \u001b[38;5;241m==\u001b[39m pygame\u001b[38;5;241m.\u001b[39mK_DOWN:\n\u001b[0;32m     55\u001b[0m             glTranslatef(\u001b[38;5;241m0\u001b[39m,\u001b[38;5;241m-\u001b[39m\u001b[38;5;241m1\u001b[39m,\u001b[38;5;241m0\u001b[39m)\n\u001b[1;32m---> 57\u001b[0m \u001b[43mglRotatef\u001b[49m\u001b[43m(\u001b[49m\u001b[38;5;241;43m1\u001b[39;49m\u001b[43m,\u001b[49m\u001b[43m \u001b[49m\u001b[38;5;241;43m5\u001b[39;49m\u001b[43m,\u001b[49m\u001b[43m \u001b[49m\u001b[38;5;241;43m1\u001b[39;49m\u001b[43m,\u001b[49m\u001b[43m \u001b[49m\u001b[38;5;241;43m1\u001b[39;49m\u001b[43m)\u001b[49m\n\u001b[0;32m     58\u001b[0m glClear(GL_COLOR_BUFFER_BIT\u001b[38;5;241m|\u001b[39mGL_DEPTH_BUFFER_BIT)\n\u001b[0;32m     60\u001b[0m glPolygonMode(GL_FRONT_AND_BACK, GL_LINE)\n",
      "File \u001b[1;32msrc\\errorchecker.pyx:58\u001b[0m, in \u001b[0;36mOpenGL_accelerate.errorchecker._ErrorChecker.glCheckError\u001b[1;34m()\u001b[0m\n",
      "\u001b[1;31mGLError\u001b[0m: GLError(\n\terr = 1282,\n\tdescription = b'\\xed\\xe5\\xe4\\xee\\xef\\xf3\\xf1\\xf2\\xe8\\xec\\xe0\\xff \\xee\\xef\\xe5\\xf0\\xe0\\xf6\\xe8\\xff',\n\tbaseOperation = glRotatef,\n\tcArguments = (1, 5, 1, 1)\n)"
     ]
    }
   ],
   "source": [
    "# Model Import Example\n",
    "# https://github.com/pywavefront/PyWavefront/issues/87#issuecomment-464348971\n",
    "# https://inareous.github.io/posts/opening-obj-using-py\n",
    "\n",
    "scene = pywavefront.Wavefront('model3.obj', collect_faces=True)\n",
    "\n",
    "scene_box = (scene.vertices[0], scene.vertices[0])\n",
    "for vertex in scene.vertices:\n",
    "    min_v = [min(scene_box[0][i], vertex[i]) for i in range(3)]\n",
    "    max_v = [max(scene_box[1][i], vertex[i]) for i in range(3)]\n",
    "    scene_box = (min_v, max_v)\n",
    "\n",
    "scene_size     = [scene_box[1][i]-scene_box[0][i] for i in range(3)]\n",
    "max_scene_size = max(scene_size)\n",
    "scaled_size    = 5\n",
    "scene_scale    = [scaled_size/max_scene_size for i in range(3)]\n",
    "scene_trans    = [-(scene_box[1][i]+scene_box[0][i])/2 for i in range(3)]\n",
    "\n",
    "def Model():\n",
    "    glPushMatrix()\n",
    "    glScalef(*scene_scale)\n",
    "    glTranslatef(*scene_trans)\n",
    "\n",
    "    for mesh in scene.mesh_list:\n",
    "        glBegin(GL_TRIANGLES)\n",
    "        for face in mesh.faces:\n",
    "            for vertex_i in face:\n",
    "                glColor4f(0.729, 0.333, 0.827, 0.35)\n",
    "                glVertex3f(*scene.vertices[vertex_i])\n",
    "        glEnd()\n",
    "\n",
    "    glPopMatrix()\n",
    "\n",
    "def main():\n",
    "        pygame.init()\n",
    "        display = (800, 600)\n",
    "        pygame.display.set_mode(display, DOUBLEBUF | OPENGL)\n",
    "        gluPerspective(45, (display[0] / display[1]), 1, 500.0)\n",
    "        glTranslatef(0.0, 0.0, -10)\n",
    "\n",
    "        while True:\n",
    "            for event in pygame.event.get():\n",
    "                if event.type == pygame.QUIT:\n",
    "                    pygame.quit()\n",
    "                    quit()\n",
    "\n",
    "                if event.type == pygame.KEYDOWN:\n",
    "                    if event.key == pygame.K_LEFT:\n",
    "                        glTranslatef(-0.5,0,0)\n",
    "                    if event.key == pygame.K_RIGHT:\n",
    "                        glTranslatef(0.5,0,0)\n",
    "                    if event.key == pygame.K_UP:\n",
    "                        glTranslatef(0,1,0)\n",
    "                    if event.key == pygame.K_DOWN:\n",
    "                        glTranslatef(0,-1,0)\n",
    "\n",
    "            glRotatef(1, 5, 1, 1)\n",
    "            glClear(GL_COLOR_BUFFER_BIT|GL_DEPTH_BUFFER_BIT)\n",
    "\n",
    "            glPolygonMode(GL_FRONT_AND_BACK, GL_LINE)\n",
    "            Model()\n",
    "            glPolygonMode(GL_FRONT_AND_BACK, GL_FILL)\n",
    "\n",
    "            pygame.display.flip()\n",
    "            pygame.time.wait(10)\n",
    "\n",
    "main()"
   ]
  },
  {
   "cell_type": "code",
   "execution_count": 8,
   "metadata": {},
   "outputs": [],
   "source": [
    "# Model File Reading Example\n",
    "\n",
    "with open('model3.obj','rb') as infile:\n",
    "    data = infile.read()"
   ]
  },
  {
   "cell_type": "code",
   "execution_count": 12,
   "metadata": {},
   "outputs": [
    {
     "ename": "NameError",
     "evalue": "name 'element_surface_area' is not defined",
     "output_type": "error",
     "traceback": [
      "\u001b[1;31m---------------------------------------------------------------------------\u001b[0m",
      "\u001b[1;31mNameError\u001b[0m                                 Traceback (most recent call last)",
      "Input \u001b[1;32mIn [12]\u001b[0m, in \u001b[0;36m<cell line: 7>\u001b[1;34m()\u001b[0m\n\u001b[0;32m      3\u001b[0m c_zero \u001b[38;5;241m=\u001b[39m \u001b[38;5;241m5.67\u001b[39m\n\u001b[0;32m      5\u001b[0m \u001b[38;5;66;03m#k_ij = lyambda_ij * S_ij\u001b[39;00m\n\u001b[1;32m----> 7\u001b[0m \u001b[43melement_surface_area\u001b[49m \u001b[38;5;66;03m#S_i \u001b[39;00m\n\u001b[0;32m      9\u001b[0m heat_flow \u001b[38;5;66;03m#Q_i^R\u001b[39;00m\n\u001b[0;32m     11\u001b[0m right_function\u001b[38;5;241m=\u001b[39mnp\u001b[38;5;241m.\u001b[39mempty(\u001b[38;5;241m9\u001b[39m)\n",
      "\u001b[1;31mNameError\u001b[0m: name 'element_surface_area' is not defined"
     ]
    }
   ],
   "source": [
    "# Task ODE System (in progress...)\n",
    "\n",
    "c_zero = 5.67\n",
    "\n",
    "#k_ij = lyambda_ij * S_ij\n",
    "\n",
    "element_surface_area #S_i \n",
    "\n",
    "heat_flow #Q_i^R\n",
    "\n",
    "right_function=np.empty(9)\n",
    "\n",
    "right_function[0]=(-k[0][1]*(T1-T0)-eps[0]*element_surface_area[0]*c_zero*((T0/100)**4)+heat_flow[0])/c[0]\n",
    "right_function[1]=(-k[0][1]*(T1-T0)-k[1][2]*(T2-T1)-eps[1]*element_surface_area[1]*c_zero*((T1/100)**4)+heat_flow[1])/c[1]\n",
    "right_function[2]=(-k[1][2]*(T2-T1)-k[2][3]*(T3-T2)-eps[2]*element_surface_area[2]*c_zero*((T2/100)**4)+heat_flow[2])/c[2]\n",
    "right_function[3]=(-k[2][3]*(T3-T2)-k[3][4]*(T4-T3)-eps[3]*element_surface_area[3]*c_zero*((T3/100)**4)+heat_flow[3])/c[3]\n",
    "right_function[4]=(-k[3][4]*(T4-T3)-k[4][5]*(T5-T4)-eps[4]*element_surface_area[4]*c_zero*((T4/100)**4)+heat_flow[4])/c[4]\n",
    "right_function[5]=(-k[4][5]*(T5-T4)-k[5][6]*(T6-T5)-eps[5]*element_surface_area[5]*c_zero*((T5/100)**4)+heat_flow[5])/c[5]\n",
    "right_function[6]=(-k[5][6]*(T6-T5)-k[6][7]*(T7-T6)-eps[6]*element_surface_area[6]*c_zero*((T6/100)**4)+heat_flow[6])/c[6]\n",
    "right_function[7]=(-k[6][7]*(T7-T6)-k[7][8]*(T8-T7)-eps[7]*element_surface_area[7]*c_zero*((T7/100)**4)+heat_flow[7])/c[7]\n",
    "right_function[8]=(-k[7][8]*(T8-T7)-eps[8]*element_surface_area[8]*c_zero*((T8/100)**4)+heat_flow[8])/c[8]"
   ]
  },
  {
   "cell_type": "code",
   "execution_count": null,
   "metadata": {},
   "outputs": [],
   "source": []
  },
  {
   "cell_type": "code",
   "execution_count": null,
   "metadata": {},
   "outputs": [],
   "source": []
  }
 ],
 "metadata": {
  "kernelspec": {
   "display_name": "Python 3 (ipykernel)",
   "language": "python",
   "name": "python3"
  },
  "language_info": {
   "codemirror_mode": {
    "name": "ipython",
    "version": 3
   },
   "file_extension": ".py",
   "mimetype": "text/x-python",
   "name": "python",
   "nbconvert_exporter": "python",
   "pygments_lexer": "ipython3",
   "version": "3.8.12"
  }
 },
 "nbformat": 4,
 "nbformat_minor": 4
}
