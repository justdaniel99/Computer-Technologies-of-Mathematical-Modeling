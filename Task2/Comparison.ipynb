{
 "cells": [
  {
   "cell_type": "code",
   "execution_count": 49,
   "id": "a07e5a38",
   "metadata": {},
   "outputs": [],
   "source": [
    "import time\n",
    "import numpy as np\n",
    "import random as random\n",
    "import SecondTask as st"
   ]
  },
  {
   "cell_type": "code",
   "execution_count": 50,
   "id": "12f8f97e",
   "metadata": {},
   "outputs": [],
   "source": [
    "def timeToSolve(method, launchesNumber, masses, initialPosition, initialVelocity, deltaTime, iterations):\n",
    "    t = 0\n",
    "    \n",
    "    for i in range(launchesNumber):\n",
    "        startTime = time.time()\n",
    "        st.VerletAlgorithmMethods(method, masses, initialPosition, initialVelocity, deltaTime, iterations)\n",
    "        t += time.time() - startTime\n",
    "        \n",
    "    return t / launchesNumber"
   ]
  },
  {
   "cell_type": "code",
   "execution_count": 51,
   "id": "5fbe3100",
   "metadata": {},
   "outputs": [],
   "source": [
    "def particlesGeneration(n, dx=1e12):\n",
    "    \n",
    "    def oneParticleGeneration(centre):\n",
    "        m = random.uniform(1, 1e5) * 1e22\n",
    "        r_x = random.uniform(-2*dx/3, 2*dx/3)\n",
    "        r_y = random.uniform(-2*dx/3, 2*dx/3)\n",
    "        v_x = random.uniform(-dx**0.3, dx**0.3)\n",
    "        v_y = random.uniform(-dx**0.3, dx**0.3)\n",
    "        return [m, centre[0] + r_x, centre[1] + r_y, v_x, v_y]\n",
    "\n",
    "    random.seed()\n",
    "    currentCentre = np.zeros(2)\n",
    "    particles = [oneParticleGeneration(currentCentre)]\n",
    "    k = 1\n",
    "    for i in range(n // 2):\n",
    "        currentCentre[0] += k * dx * (-1)**k\n",
    "        particles.append(oneParticleGeneration(currentCentre))\n",
    "        currentCentre[1] += k * dx * (-1)**k\n",
    "        particles.append(oneParticleGeneration(currentCentre))\n",
    "        k += 1\n",
    "\n",
    "    # Format for computation\n",
    "    mass = []\n",
    "    position = []\n",
    "    velocity = []\n",
    "    for particle in particles:\n",
    "        mass += particle[:1]\n",
    "        position += particle[1:3]\n",
    "        velocity += particle[3:]\n",
    "\n",
    "    return np.array(mass), np.array(position), np.array(velocity), 10 * abs((max(position) - min(position)) / max(velocity))"
   ]
  },
  {
   "cell_type": "code",
   "execution_count": 54,
   "id": "81df8b27",
   "metadata": {},
   "outputs": [
    {
     "name": "stdout",
     "output_type": "stream",
     "text": [
      "51\n",
      "12.913279136021933\n",
      "0.0\n",
      "2.930194934209188\n",
      "0.8775580724080404\n"
     ]
    }
   ],
   "source": [
    "def main():\n",
    "    m, p, v, t = particlesGeneration(50)\n",
    "    print(timeToSolve(1, 3, m, p, v, t / 100, 100))\n",
    "    print(timeToSolve(2, 3, m, p, v, t / 100, 100))\n",
    "    print(timeToSolve(3, 3, m, p, v, t / 100, 100))\n",
    "    print(timeToSolve(4, 3, m, p, v, t / 100, 100))\n",
    "    \n",
    "    \n",
    "if __name__ == \"__main__\":\n",
    "    main()"
   ]
  },
  {
   "cell_type": "code",
   "execution_count": null,
   "id": "be2ee147",
   "metadata": {},
   "outputs": [],
   "source": [
    "m, p, v, t = particlesGeneration(100)\n",
    "print(timeToSolve(1, 3, m, p, v, t / 100, 100))\n",
    "\n",
    "m, p, v, t = particlesGeneration(100)\n",
    "print(timeToSolve(2, 3, m, p, v, t / 100, 100))\n",
    "\n",
    "m, p, v, t = particlesGeneration(100)\n",
    "print(timeToSolve(3, 3, m, p, v, t / 100, 100))\n",
    "\n",
    "m, p, v, t = particlesGeneration(100)\n",
    "print(timeToSolve(4, 3, m, p, v, t / 100, 100))"
   ]
  },
  {
   "cell_type": "code",
   "execution_count": null,
   "id": "af798ac7",
   "metadata": {},
   "outputs": [],
   "source": [
    "m, p, v, t = particlesGeneration(200)\n",
    "print(timeToSolve(1, 3, m, p, v, t / 100, 100))\n",
    "\n",
    "m, p, v, t = particlesGeneration(200)\n",
    "print(timeToSolve(2, 3, m, p, v, t / 100, 100))\n",
    "\n",
    "m, p, v, t = particlesGeneration(200)\n",
    "print(timeToSolve(3, 3, m, p, v, t / 100, 100))\n",
    "\n",
    "m, p, v, t = particlesGeneration(200)\n",
    "print(timeToSolve(4, 3, m, p, v, t / 100, 100))"
   ]
  },
  {
   "cell_type": "code",
   "execution_count": null,
   "id": "9bf54ce2",
   "metadata": {},
   "outputs": [],
   "source": []
  },
  {
   "cell_type": "code",
   "execution_count": null,
   "id": "de957c0a",
   "metadata": {},
   "outputs": [],
   "source": []
  }
 ],
 "metadata": {
  "kernelspec": {
   "display_name": "Python 3 (ipykernel)",
   "language": "python",
   "name": "python3"
  },
  "language_info": {
   "codemirror_mode": {
    "name": "ipython",
    "version": 3
   },
   "file_extension": ".py",
   "mimetype": "text/x-python",
   "name": "python",
   "nbconvert_exporter": "python",
   "pygments_lexer": "ipython3",
   "version": "3.8.12"
  }
 },
 "nbformat": 4,
 "nbformat_minor": 5
}
